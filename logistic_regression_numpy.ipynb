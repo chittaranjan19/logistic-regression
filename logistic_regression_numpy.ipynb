{
 "cells": [
  {
   "cell_type": "code",
   "execution_count": 364,
   "id": "caf0f8e5",
   "metadata": {},
   "outputs": [],
   "source": [
    "import numpy as np\n",
    "import pandas as pd\n",
    "from scipy.sparse import dok_matrix\n",
    "import string\n",
    "from collections import defaultdict\n",
    "from tqdm import tqdm\n",
    "def tokenize(document):\n",
    "    return document.split()\n",
    "\n",
    "def better_tokenize(document):\n",
    "    document = (\n",
    "        document.lower().translate(str.maketrans('','', string.punctuation))\n",
    "        .replace(\"\\r\", \" \")\n",
    "        .replace(\"\\n\", \" \")\n",
    "        .replace(\"\\\"\", \"\")\n",
    "        .replace(\"\\'\", \"\")\n",
    "        )\n",
    "    return tokenize(document)\n",
    "\n",
    "def create_word_counts_dict(lines, filter=0):\n",
    "    word_counts = defaultdict(lambda: 0)\n",
    "\n",
    "    for line in lines:\n",
    "        tokens = better_tokenize(line)\n",
    "        for token in tokens:\n",
    "            word_counts[token] += 1\n",
    "    return {k: v for k, v in word_counts.items() if v >= filter}\n",
    "\n",
    "def create_term_document_matrix(file_name, include_intercept=False):\n",
    "    lines = pd.read_csv(file_name)\n",
    "    word_counts = create_word_counts_dict(lines[\"text\"], filter=2)\n",
    "    word_idx = {k: i for i, k in enumerate(word_counts)}\n",
    "    V = len(word_counts)\n",
    "    if include_intercept:\n",
    "        V += 1\n",
    "    D = lines.shape[0]\n",
    "    X = dok_matrix((D, V), dtype=np.int64)\n",
    "    for i in range(D):\n",
    "        word_counts_doc = create_word_counts_dict(pd.Series(lines.iloc[i][\"text\"]))\n",
    "        # y[i] = int(lines[i+1].strip().split(\",\")[-1])\n",
    "        if include_intercept:\n",
    "            X[i,0] = 1\n",
    "        for word in word_counts_doc:\n",
    "            if word in word_idx:\n",
    "                j = word_idx[word]\n",
    "                X[i,j] = word_counts_doc[word]\n",
    "    return X, lines[\"sarcastic\"], word_idx\n",
    "\n",
    "\n",
    "\n",
    "\n",
    "X, y, word_idx = create_term_document_matrix(\"si630w23-hw1.train.csv\", include_intercept=True)"
   ]
  },
  {
   "cell_type": "code",
   "execution_count": 365,
   "id": "3a8029df",
   "metadata": {},
   "outputs": [],
   "source": [
    "class LogisticRegression():\n",
    "    def __init__(self, \n",
    "                 X, \n",
    "                 y,\n",
    "                 learning_rate=1e-1,\n",
    "                 num_steps=100000,\n",
    "                 epochs=25,\n",
    "                 step_interval=50\n",
    "                ):\n",
    "        self.X = X\n",
    "        self.y = y\n",
    "        self.learning_rate = learning_rate\n",
    "        self.num_steps = num_steps\n",
    "        self.old_beta = np.random.rand(X.shape[1])\n",
    "        self.new_beta = np.random.rand(X.shape[1])\n",
    "        self.loss = []\n",
    "        self.epochs = epochs\n",
    "        self.step_interval=step_interval\n",
    "\n",
    "    def sigmoid(self, x):\n",
    "        return 1 / (1 + np.exp(-x))\n",
    "\n",
    "    def log_likelihood(self):\n",
    "        y_hat = sigmoid(self.X @ self.new_beta.T)\n",
    "        ll = np.sum(self.y * np.log(y_hat) + (1-self.y) * np.log(1-y_hat))\n",
    "        return ll\n",
    "\n",
    "    def compute_gradient(self, xi, yi):\n",
    "        gradient = (yi - self.sigmoid(xi @ self.old_beta.T)) * xi\n",
    "        return gradient\n",
    "\n",
    "    def converged(self):\n",
    "        if np.sum(self.old_beta) == np.sum(self.new_beta): # first iteration\n",
    "            return False\n",
    "        return np.allclose(self.old_beta, self.new_beta, atol=1e-1)\n",
    "\n",
    "    def __call__(self):\n",
    "        N = self.X.shape[0]\n",
    "        order = np.arange(N)\n",
    "        steps = 0\n",
    "        epochs = 0\n",
    "        while not self.converged() and epochs < self.epochs and (steps < self.num_steps):\n",
    "            np.random.shuffle(order)\n",
    "            for idx in tqdm(order):\n",
    "                steps += 1\n",
    "                xi, yi = self.X[idx], self.y[idx]\n",
    "                self.new_beta = self.old_beta + (self.learning_rate * self.compute_gradient(xi, yi))\n",
    "                self.old_beta = self.new_beta\n",
    "                if (steps % self.step_interval == 0):\n",
    "                    self.loss.append(self.log_likelihood())\n",
    "            epochs += 1\n",
    "\n",
    "    def predict(self, sentence, word_idx, include_intercept=1):\n",
    "        tokens = better_tokenize(sentence)\n",
    "        xi = np.zeros(X.shape[1])\n",
    "        for token in tokens:\n",
    "            if token in word_idx:\n",
    "                xi[word_idx[token] + include_intercept] += 1\n",
    "        if include_intercept:\n",
    "            xi[0] = 1\n",
    "        return self.sigmoid(xi @ self.new_beta.T)"
   ]
  },
  {
   "cell_type": "code",
   "execution_count": 366,
   "id": "afd252b6",
   "metadata": {},
   "outputs": [
    {
     "name": "stderr",
     "output_type": "stream",
     "text": [
      "100%|██████████| 3467/3467 [00:12<00:00, 285.05it/s]\n"
     ]
    }
   ],
   "source": [
    "model = LogisticRegression(X, y, num_steps=1000)\n",
    "model()"
   ]
  },
  {
   "cell_type": "code",
   "execution_count": 367,
   "id": "63389421",
   "metadata": {},
   "outputs": [
    {
     "data": {
      "text/plain": [
       "Text(0.5, 1.0, 'Log Likelihood')"
      ]
     },
     "execution_count": 367,
     "metadata": {},
     "output_type": "execute_result"
    },
    {
     "data": {
      "image/png": "[encoded data removed]",
      "text/plain": [
       "<Figure size 432x288 with 1 Axes>"
      ]
     },
     "metadata": {
      "needs_background": "light"
     },
     "output_type": "display_data"
    }
   ],
   "source": [
    "pd.Series(model.loss).plot().set_title(\"Log Likelihood\")"
   ]
  },
  {
   "cell_type": "code",
   "execution_count": 368,
   "id": "918c8e59",
   "metadata": {},
   "outputs": [
    {
     "name": "stderr",
     "output_type": "stream",
     "text": [
      "100%|██████████| 3467/3467 [00:11<00:00, 289.86it/s]\n",
      "100%|██████████| 3467/3467 [00:11<00:00, 296.13it/s]\n",
      "100%|██████████| 3467/3467 [00:12<00:00, 288.47it/s]\n",
      "100%|██████████| 3467/3467 [00:11<00:00, 295.16it/s]\n",
      "100%|██████████| 3467/3467 [00:13<00:00, 253.18it/s]\n",
      "100%|██████████| 3467/3467 [00:13<00:00, 257.39it/s]\n",
      "100%|██████████| 3467/3467 [00:12<00:00, 274.83it/s]\n",
      "100%|██████████| 3467/3467 [00:15<00:00, 224.95it/s]\n",
      "100%|██████████| 3467/3467 [00:12<00:00, 271.88it/s]\n",
      "100%|██████████| 3467/3467 [00:12<00:00, 267.87it/s]\n",
      "100%|██████████| 3467/3467 [00:11<00:00, 290.65it/s]\n",
      "100%|██████████| 3467/3467 [00:12<00:00, 268.13it/s]\n",
      "100%|██████████| 3467/3467 [00:13<00:00, 263.74it/s]\n",
      "100%|██████████| 3467/3467 [00:14<00:00, 243.97it/s]\n",
      "100%|██████████| 3467/3467 [00:14<00:00, 240.05it/s]\n",
      "100%|██████████| 3467/3467 [00:13<00:00, 266.32it/s]\n",
      "100%|██████████| 3467/3467 [00:12<00:00, 279.63it/s]\n",
      "100%|██████████| 3467/3467 [00:14<00:00, 246.68it/s]\n",
      "100%|██████████| 3467/3467 [00:12<00:00, 268.43it/s]\n",
      "100%|██████████| 3467/3467 [00:12<00:00, 279.93it/s]\n",
      "100%|██████████| 3467/3467 [00:12<00:00, 275.59it/s]\n",
      "100%|██████████| 3467/3467 [00:13<00:00, 253.93it/s]\n",
      "100%|██████████| 3467/3467 [00:14<00:00, 246.01it/s]\n",
      "100%|██████████| 3467/3467 [00:11<00:00, 299.63it/s]\n",
      "100%|██████████| 3467/3467 [00:11<00:00, 308.68it/s]\n"
     ]
    }
   ],
   "source": [
    "model2 = LogisticRegression(X, y)\n",
    "model2()"
   ]
  },
  {
   "cell_type": "code",
   "execution_count": 369,
   "id": "f865c840",
   "metadata": {},
   "outputs": [],
   "source": [
    "from sklearn.metrics import f1_score, accuracy_score"
   ]
  },
  {
   "cell_type": "code",
   "execution_count": 370,
   "id": "8d62cd1a",
   "metadata": {},
   "outputs": [
    {
     "data": {
      "text/plain": [
       "0.29007633587786263"
      ]
     },
     "execution_count": 370,
     "metadata": {},
     "output_type": "execute_result"
    }
   ],
   "source": [
    "test = pd.read_csv(\"si630w23-hw1.dev.csv\")\n",
    "y_hats = test[\"text\"].apply(lambda s: round(model2.predict(s, word_idx, include_intercept=1)))\n",
    "f1_score(list(test[\"sarcastic\"]), list(y_hats))"
   ]
  },
  {
   "cell_type": "code",
   "execution_count": 371,
   "id": "26367548",
   "metadata": {},
   "outputs": [
    {
     "data": {
      "text/plain": [
       "0.3357142857142857"
      ]
     },
     "execution_count": 371,
     "metadata": {},
     "output_type": "execute_result"
    }
   ],
   "source": [
    "accuracy_score(list(test[\"sarcastic\"]), list(y_hats))"
   ]
  },
  {
   "cell_type": "code",
   "execution_count": 372,
   "id": "99c7825f",
   "metadata": {},
   "outputs": [
    {
     "data": {
      "text/plain": [
       "0       1\n",
       "1       0\n",
       "2       0\n",
       "3       1\n",
       "4       0\n",
       "       ..\n",
       "1395    1\n",
       "1396    1\n",
       "1397    0\n",
       "1398    1\n",
       "1399    1\n",
       "Name: prediction, Length: 1400, dtype: int64"
      ]
     },
     "execution_count": 372,
     "metadata": {},
     "output_type": "execute_result"
    }
   ],
   "source": [
    "test = pd.read_csv(\"si630w23-hw1.test.csv\")\n",
    "test[\"prediction\"] = test[\"text\"].apply(lambda s: round(model2.predict(s, word_idx, include_intercept=1)))\n",
    "test[\"prediction\"]"
   ]
  },
  {
   "cell_type": "code",
   "execution_count": 373,
   "id": "b16c5b8f",
   "metadata": {},
   "outputs": [],
   "source": [
    "test.to_csv(\"lr_submission.csv\", index_label=\"index\", columns=[\"prediction\"])"
   ]
  },
  {
   "cell_type": "code",
   "execution_count": 374,
   "id": "2e84b5c5",
   "metadata": {
    "scrolled": false
   },
   "outputs": [
    {
     "name": "stdout",
     "output_type": "stream",
     "text": [
      "index,prediction\r\n",
      "0,1\r\n",
      "1,0\r\n",
      "2,0\r\n",
      "3,1\r\n",
      "4,0\r\n",
      "5,1\r\n",
      "6,1\r\n",
      "7,1\r\n",
      "8,1\r\n"
     ]
    }
   ],
   "source": [
    "!head lr_submission.csv\n"
   ]
  },
  {
   "cell_type": "code",
   "execution_count": null,
   "id": "05187c54",
   "metadata": {},
   "outputs": [],
   "source": []
  },
  {
   "cell_type": "code",
   "execution_count": null,
   "id": "d93e1e65",
   "metadata": {},
   "outputs": [],
   "source": []
  },
  {
   "cell_type": "code",
   "execution_count": null,
   "id": "154d0486",
   "metadata": {},
   "outputs": [],
   "source": []
  }
 ],
 "metadata": {
  "kernelspec": {
   "display_name": "Python 3.8.8 64-bit ('base': conda)",
   "language": "python",
   "name": "python388jvsc74a57bd040d3a090f54c6569ab1632332b64b2c03c39dcf918b08424e98f38b5ae0af88f"
  },
  "language_info": {
   "codemirror_mode": {
    "name": "ipython",
    "version": 3
   },
   "file_extension": ".py",
   "mimetype": "text/x-python",
   "name": "python",
   "nbconvert_exporter": "python",
   "pygments_lexer": "ipython3",
   "version": "3.8.8"
  }
 },
 "nbformat": 4,
 "nbformat_minor": 5
}
